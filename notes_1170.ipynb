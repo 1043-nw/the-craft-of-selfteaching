{
 "cells": [
  {
   "cell_type": "markdown",
   "metadata": {},
   "source": [
    "本篇笔记投稿人：大丸子\n",
    "\n",
    "投稿请微信联系：qiaoanlu\n",
    "\n",
    "# 答题笔记：由输入获得 10 个整数并从小到大排序\n",
    "\n",
    "《自学是门手艺》题库中，第 1170 题的要求是：\n",
    "\n",
    "> 由输入获得 10 个整数，然后对它们排序后，再从小到大打印出来。\n",
    "\n",
    "这个需求，可拆分为 2 个部分：\n",
    "\n",
    "1. 由输入获得 10 个整数；\n",
    "\n",
    "2. 对这 10 个整数进行从小到大排序，然后打印。\n",
    "\n",
    "这个题目处理的数据是 10 个整数，且是“有顺序的”，所以选择列表作为保管着数据的容器。\n",
    "\n",
    "## 1、由输入获取 10 个整数的各种实现\n",
    "\n",
    "群里有位同学付出了很大的努力，终于完成此题，太不容易了！曾经，我也写过这样的实现方式，如今看到 ta 的代码，只觉得亲切可爱。\n",
    "\n",
    "![](readers_notes/02.png)\n",
    "\n",
    "下面的答题笔记，我将和大家一起开开眼界，看看同学们写出了哪些优美、简洁、高效的实现方式。"
   ]
  },
  {
   "cell_type": "code",
   "execution_count": 1,
   "metadata": {},
   "outputs": [
    {
     "name": "stdin",
     "output_type": "stream",
     "text": [
      "请输入第 1 个（共需 10 个）整数>> 1\n",
      "请输入第 2 个（共需 10 个）整数>> 2\n",
      "请输入第 3 个（共需 10 个）整数>> 11\n",
      "请输入第 4 个（共需 10 个）整数>> 12\n",
      "请输入第 5 个（共需 10 个）整数>> 32\n",
      "请输入第 6 个（共需 10 个）整数>> 123\n",
      "请输入第 7 个（共需 10 个）整数>> 4\n",
      "请输入第 8 个（共需 10 个）整数>> -1\n",
      "请输入第 9 个（共需 10 个）整数>> 0\n",
      "请输入第 10 个（共需 10 个）整数>> 2\n"
     ]
    },
    {
     "name": "stdout",
     "output_type": "stream",
     "text": [
      "由输入获得的 10 个整数为 [1, 2, 11, 12, 32, 123, 4, -1, 0, 2]\n"
     ]
    }
   ],
   "source": [
    "# 由输入获取 10 个整数\n",
    "lst = []\n",
    "for i in range(10):\n",
    "    m = int(input(\"请输入第 %d 个（共需 10 个）整数>>\"%(i+1)))\n",
    "    lst.append(m)\n",
    "\n",
    "print(\"由输入获得的 10 个整数为\", lst)"
   ]
  },
  {
   "cell_type": "markdown",
   "metadata": {},
   "source": [
    "上面的代码中：\n",
    "\n",
    "> `lst = []`和`lst.append(m)`用于定义一个空列表，并接收新的元素。\n",
    "> \n",
    "> `for i in range(10):` 用于重复执行 10 次：由输入获取一个整数。\n",
    "> \n",
    "> > `input()` 用于获取输入，但这个内置函数的返回值是 string 数据类型，我们需要把它转变为整数，所以用到了 `int()`。\n",
    "> \n",
    "> `\"请输入第 %d 个（共需 10 个）整数>>\"%(i+1)` 这串字符，也叫 f-string 表达式，是`input()`的参数；当代码运行时，能更好地和“运行代码的人（即代码的用户）”交互。\n",
    "> \n",
    "> 最后一句，我们打印由输入获得的这 10 个整数所构成的初始列表。"
   ]
  },
  {
   "cell_type": "markdown",
   "metadata": {},
   "source": [
    "和同学们切磋时，有一些发现：\n",
    "\n",
    "1、`range(10)` 也可以写成 `range(1,11)` 等；对于实现“10次”重复动作来说，前者更简约、直观。\n",
    "\n",
    "2、`for...range()` 也可以用 `while` 来实现："
   ]
  },
  {
   "cell_type": "code",
   "execution_count": null,
   "metadata": {},
   "outputs": [],
   "source": [
    "# 由输入获取 10 个整数\n",
    "lst = []\n",
    "while len(lst) < 10:\n",
    "    m = int(input(\"请输入第 %d 个（共需 10 个）整数>>\"%(i+1)))\n",
    "    lst.append(m)\n",
    "\n",
    "print(\"由输入获得的 10 个整数为\", lst)"
   ]
  },
  {
   "cell_type": "markdown",
   "metadata": {},
   "source": [
    "有同学采用 while 循环时，会增加一个计数变量，这样实现当然是能完成题目的。只是不如上面这个实现方式简约。"
   ]
  },
  {
   "cell_type": "code",
   "execution_count": null,
   "metadata": {},
   "outputs": [],
   "source": [
    "# 该实现方式不如上面那个代码块简约\n",
    "# 由输入获取 10 个整数\n",
    "lst = []\n",
    "n = 0\n",
    "while n < 10:\n",
    "    m = int(input(\"请输入第 %d 个（共需 10 个）整数>>\"%(i+1)))\n",
    "    lst.append(m)\n",
    "    n += 1\n",
    "\n",
    "print(\"由输入获得的10个整数为\", lst)"
   ]
  },
  {
   "cell_type": "markdown",
   "metadata": {},
   "source": [
    "上面提到 input() 对于运行代码时的交互体验很重要，@simon 的这个写法，简直爱了：它不会刷 10 次提示文本；喜欢简约风格的同学可以参考。"
   ]
  },
  {
   "cell_type": "code",
   "execution_count": 2,
   "metadata": {},
   "outputs": [
    {
     "name": "stdout",
     "output_type": "stream",
     "text": [
      "请输入 10 个数字，每输入一个数字请按一次回车键\n"
     ]
    },
    {
     "name": "stdin",
     "output_type": "stream",
     "text": [
      " 1\n",
      " 123\n",
      " 1\n",
      " 2\n",
      " 3\n",
      " 0\n",
      " -2\n",
      " -8\n",
      " 12\n",
      " 1\n"
     ]
    },
    {
     "name": "stdout",
     "output_type": "stream",
     "text": [
      "由输入获得的 10 个整数为 [1, 123, 1, 2, 3, 0, -2, -8, 12, 1]\n"
     ]
    }
   ],
   "source": [
    "print(\"请输入 10 个数字，每输入一个数字请按一次回车键\")\n",
    "\n",
    "lst = []\n",
    "for i in range(10):\n",
    "    lst.append(int(input()))\n",
    "    \n",
    "print(\"由输入获得的 10 个整数为\", lst)"
   ]
  },
  {
   "cell_type": "markdown",
   "metadata": {},
   "source": [
    "## 2、排序的多种实现\n",
    "\n",
    "Python 的排序方法非常强大，官方文档有个[“排序指南”](https://docs.python.org/zh-cn/3.7/howto/sorting.html)，清晰全面，也较容易理解。推荐大家阅读。\n",
    "\n",
    "![](readers_notes/01.png)\n",
    "\n",
    "### 方法1：sorted()\n",
    "\n",
    "该方法不影响原列表。sorted() 的返回值是一个新的列表，可以新增一个变量 lstx 用来保存这个新列表。"
   ]
  },
  {
   "cell_type": "code",
   "execution_count": 3,
   "metadata": {},
   "outputs": [
    {
     "data": {
      "text/plain": [
       "\u001b[1;31mSignature:\u001b[0m \u001b[0msorted\u001b[0m\u001b[1;33m(\u001b[0m\u001b[0miterable\u001b[0m\u001b[1;33m,\u001b[0m \u001b[1;33m/\u001b[0m\u001b[1;33m,\u001b[0m \u001b[1;33m*\u001b[0m\u001b[1;33m,\u001b[0m \u001b[0mkey\u001b[0m\u001b[1;33m=\u001b[0m\u001b[1;32mNone\u001b[0m\u001b[1;33m,\u001b[0m \u001b[0mreverse\u001b[0m\u001b[1;33m=\u001b[0m\u001b[1;32mFalse\u001b[0m\u001b[1;33m)\u001b[0m\u001b[1;33m\u001b[0m\u001b[1;33m\u001b[0m\u001b[0m\n",
       "\u001b[1;31mDocstring:\u001b[0m\n",
       "Return a new list containing all items from the iterable in ascending order.\n",
       "\n",
       "A custom key function can be supplied to customize the sort order, and the\n",
       "reverse flag can be set to request the result in descending order.\n",
       "\u001b[1;31mType:\u001b[0m      builtin_function_or_method\n"
      ]
     },
     "metadata": {},
     "output_type": "display_data"
    }
   ],
   "source": [
    "#使用该方式，可以随时查询 Python 官方文档\n",
    "sorted?"
   ]
  },
  {
   "cell_type": "code",
   "execution_count": 4,
   "metadata": {},
   "outputs": [
    {
     "name": "stdout",
     "output_type": "stream",
     "text": [
      "由小到大排序为 [-2, 0, 1, 1, 1, 2, 2, 3, 12, 21]\n"
     ]
    }
   ],
   "source": [
    "lst = [12, 2, 3, 1, 21, 1, 0, -2, 1, 2]\n",
    "lstx = sorted(lst)\n",
    "print(\"由小到大排序为\", lstx)"
   ]
  },
  {
   "cell_type": "markdown",
   "metadata": {},
   "source": [
    "### 方法2：sort()\n",
    "\n",
    "它是列表特有的方法，将直接修改原列表。该方法本身的返回值是 None"
   ]
  },
  {
   "cell_type": "code",
   "execution_count": 5,
   "metadata": {},
   "outputs": [
    {
     "data": {
      "text/plain": [
       "\u001b[1;31mSignature:\u001b[0m \u001b[0mlist\u001b[0m\u001b[1;33m.\u001b[0m\u001b[0msort\u001b[0m\u001b[1;33m(\u001b[0m\u001b[0mself\u001b[0m\u001b[1;33m,\u001b[0m \u001b[1;33m/\u001b[0m\u001b[1;33m,\u001b[0m \u001b[1;33m*\u001b[0m\u001b[1;33m,\u001b[0m \u001b[0mkey\u001b[0m\u001b[1;33m=\u001b[0m\u001b[1;32mNone\u001b[0m\u001b[1;33m,\u001b[0m \u001b[0mreverse\u001b[0m\u001b[1;33m=\u001b[0m\u001b[1;32mFalse\u001b[0m\u001b[1;33m)\u001b[0m\u001b[1;33m\u001b[0m\u001b[1;33m\u001b[0m\u001b[0m\n",
       "\u001b[1;31mDocstring:\u001b[0m Stable sort *IN PLACE*.\n",
       "\u001b[1;31mType:\u001b[0m      method_descriptor\n"
      ]
     },
     "metadata": {},
     "output_type": "display_data"
    }
   ],
   "source": [
    "#使用该方式，可以随时查询 Python 官方文档\n",
    "list.sort?"
   ]
  },
  {
   "cell_type": "code",
   "execution_count": 6,
   "metadata": {},
   "outputs": [
    {
     "name": "stdout",
     "output_type": "stream",
     "text": [
      "由小到大排序为 [-2, 0, 1, 1, 1, 2, 2, 3, 12, 21]\n"
     ]
    }
   ],
   "source": [
    "lst = [12, 2, 3, 1, 21, 1, 0, -2, 1, 2]\n",
    "lst.sort()\n",
    "print(\"由小到大排序为\", lst)"
   ]
  },
  {
   "cell_type": "code",
   "execution_count": 7,
   "metadata": {},
   "outputs": [
    {
     "name": "stdout",
     "output_type": "stream",
     "text": [
      "None\n"
     ]
    }
   ],
   "source": [
    "# 这个知识点非常重要哦\n",
    "print(lst.sort())"
   ]
  },
  {
   "cell_type": "markdown",
   "metadata": {},
   "source": [
    "## 3、自己写代码，练习算法\n",
    "\n",
    "如果不使用上述两个方法，利用 Python 最基础的知识点，自己写代码实现排序，该如何写呢？\n",
    "\n",
    "虽然编程界通常不提倡“重复发明轮子”，但作为新手，用最基础的知识去重复发明轮子，能更好地训练自己的编程思维；如果在写过一些实现后再读 Python 相应的源码，也会更有感触和收获。\n",
    "\n",
    "更有一层惊喜在于，这可以无形中接触到“算法”，为自己以后专项练习算法，提供了一些实战的感触。\n",
    "\n",
    "下面是我的首个算法尝试，献丑啦。"
   ]
  },
  {
   "cell_type": "code",
   "execution_count": 8,
   "metadata": {},
   "outputs": [
    {
     "name": "stdout",
     "output_type": "stream",
     "text": [
      "[1, 22, 12, 1, 2, 121, 21, 22, 122, 12] 由小到大排序为 [1, 1, 2, 12, 12, 21, 22, 22, 121, 122]\n"
     ]
    }
   ],
   "source": [
    "lst = [1, 22, 12, 1, 2, 121, 21, 22, 122, 12]\n",
    "\n",
    "def my_sort(lst):\n",
    "    lstx = []\n",
    "    for i in lst:\n",
    "        if len(lstx) == 0:\n",
    "            lstx.insert(0,i)\n",
    "        else:\n",
    "            for j in range(len(lstx)):\n",
    "                v = 0\n",
    "                if i <= lstx[j]:\n",
    "                    v = j\n",
    "                    lstx.insert(v,i)\n",
    "                    break\n",
    "                else:\n",
    "                    v = j + 1\n",
    "            else:\n",
    "                lstx.insert(v,i)\n",
    "    return lstx\n",
    "\n",
    "        \n",
    "lstx = my_sort(lst)\n",
    "print(lst,\"由小到大排序为\", lstx)"
   ]
  },
  {
   "cell_type": "markdown",
   "metadata": {},
   "source": [
    "为了让自己直观地看到自己写的代码，和官方自带的排序方法在运行效率上的差异，我写了一个简单的单次运行时长统计。"
   ]
  },
  {
   "cell_type": "code",
   "execution_count": 9,
   "metadata": {},
   "outputs": [
    {
     "name": "stdout",
     "output_type": "stream",
     "text": [
      "sorted() 运行时间 0.001995563507080078\n",
      "my_sort() 运行时间 3.055828809738159\n",
      "sort() 运行时间 0.004993915557861328\n"
     ]
    }
   ],
   "source": [
    "import random\n",
    "import time\n",
    "# 生成一个有 10000 个元素的列表\n",
    "lst = [random.randint(1,10000) for i in range(10000)]\n",
    "\n",
    "# 官方提供的 sorted() 运行效率\n",
    "start = time.time()\n",
    "lst1 = sorted(lst)\n",
    "end = time.time()\n",
    "print(\"sorted() 运行时间\",end-start)\n",
    "\n",
    "# 我自己写的算法运行效率\n",
    "start = time.time()\n",
    "lst1 = my_sort(lst)\n",
    "end = time.time()\n",
    "print(\"my_sort() 运行时间\",end-start)\n",
    "\n",
    "# 官方提供的 sort() 运行效率\n",
    "start = time.time()\n",
    "lst.sort()\n",
    "end = time.time()\n",
    "print(\"sort() 运行时间\",end-start)"
   ]
  },
  {
   "cell_type": "markdown",
   "metadata": {},
   "source": [
    "这个对比相当显著~ 成百上千倍的效率差距！看来算法真的很重要。\n",
    "\n",
    "大家知道哪些关于排序的算法，能自己写出代码试着实现该算法吗？\n",
    "\n",
    "等我们完成了《自学是门手艺》，达到 Python 入门，我们一起去学习[《你也能看懂的Python算法书》](https://xue.cn/hub/app/books/10)好吗？\n",
    "\n",
    "2020 年 5 月 27 日"
   ]
  }
 ],
 "metadata": {
  "kernelspec": {
   "display_name": "Python 3",
   "language": "python",
   "name": "python3"
  },
  "language_info": {
   "codemirror_mode": {
    "name": "ipython",
    "version": 3
   },
   "file_extension": ".py",
   "mimetype": "text/x-python",
   "name": "python",
   "nbconvert_exporter": "python",
   "pygments_lexer": "ipython3",
   "version": "3.7.3"
  }
 },
 "nbformat": 4,
 "nbformat_minor": 2
}
